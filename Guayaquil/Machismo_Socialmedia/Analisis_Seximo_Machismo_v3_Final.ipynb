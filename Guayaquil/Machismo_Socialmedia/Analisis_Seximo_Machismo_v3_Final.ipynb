{
  "nbformat": 4,
  "nbformat_minor": 0,
  "metadata": {
    "colab": {
      "name": "Analisis_Seximo_Machismo v3 Final",
      "version": "0.3.2",
      "provenance": [],
      "collapsed_sections": [],
      "toc_visible": true
    },
    "kernelspec": {
      "name": "python3",
      "display_name": "Python 3"
    },
    "accelerator": "GPU"
  },
  "cells": [
    {
      "cell_type": "code",
      "metadata": {
        "id": "_LGaah-qjwIf",
        "colab_type": "code",
        "colab": {}
      },
      "source": [
        "%reload_ext autoreload\n",
        "%autoreload 2\n",
        "%matplotlib inline"
      ],
      "execution_count": 0,
      "outputs": []
    },
    {
      "cell_type": "code",
      "metadata": {
        "id": "0s_KX5XxjTk8",
        "colab_type": "code",
        "colab": {}
      },
      "source": [
        "import pandas as pd\n",
        "from fastai.text import *"
      ],
      "execution_count": 0,
      "outputs": []
    },
    {
      "cell_type": "code",
      "metadata": {
        "id": "AySIHsJakCK1",
        "colab_type": "code",
        "outputId": "68072982-79ed-4c2c-da0f-3f5369a80213",
        "colab": {
          "base_uri": "https://localhost:8080/",
          "height": 130
        }
      },
      "source": [
        "from google.colab import drive\n",
        "drive.mount('/content/drive/')\n"
      ],
      "execution_count": 0,
      "outputs": [
        {
          "output_type": "stream",
          "text": [
            "Go to this URL in a browser: https://accounts.google.com/o/oauth2/auth?client_id=947318989803-6bn6qk8qdgf4n4g3pfee6491hc0brc4i.apps.googleusercontent.com&redirect_uri=urn%3Aietf%3Awg%3Aoauth%3A2.0%3Aoob&scope=email%20https%3A%2F%2Fwww.googleapis.com%2Fauth%2Fdocs.test%20https%3A%2F%2Fwww.googleapis.com%2Fauth%2Fdrive%20https%3A%2F%2Fwww.googleapis.com%2Fauth%2Fdrive.photos.readonly%20https%3A%2F%2Fwww.googleapis.com%2Fauth%2Fpeopleapi.readonly&response_type=code\n",
            "\n",
            "Enter your authorization code:\n",
            "··········\n",
            "Mounted at /content/drive/\n"
          ],
          "name": "stdout"
        }
      ]
    },
    {
      "cell_type": "code",
      "metadata": {
        "id": "aWjIuHhKkaVq",
        "colab_type": "code",
        "colab": {}
      },
      "source": [
        "path = '/content/drive/My Drive/Ai Saturdays/'"
      ],
      "execution_count": 0,
      "outputs": []
    },
    {
      "cell_type": "code",
      "metadata": {
        "id": "43syrNwnlAc5",
        "colab_type": "code",
        "outputId": "28805e2d-d765-4fd2-bc20-8b5c5ffe6868",
        "colab": {
          "base_uri": "https://localhost:8080/",
          "height": 206
        }
      },
      "source": [
        "df = pd.read_csv(path+\"ds_tweets.csv\")\n",
        "df.head()"
      ],
      "execution_count": 0,
      "outputs": [
        {
          "output_type": "execute_result",
          "data": {
            "text/html": [
              "<div>\n",
              "<style scoped>\n",
              "    .dataframe tbody tr th:only-of-type {\n",
              "        vertical-align: middle;\n",
              "    }\n",
              "\n",
              "    .dataframe tbody tr th {\n",
              "        vertical-align: top;\n",
              "    }\n",
              "\n",
              "    .dataframe thead th {\n",
              "        text-align: right;\n",
              "    }\n",
              "</style>\n",
              "<table border=\"1\" class=\"dataframe\">\n",
              "  <thead>\n",
              "    <tr style=\"text-align: right;\">\n",
              "      <th></th>\n",
              "      <th>text</th>\n",
              "      <th>clasificacion</th>\n",
              "    </tr>\n",
              "  </thead>\n",
              "  <tbody>\n",
              "    <tr>\n",
              "      <th>0</th>\n",
              "      <td>No puedo con las mujeres que no se depilan las...</td>\n",
              "      <td>M</td>\n",
              "    </tr>\n",
              "    <tr>\n",
              "      <th>1</th>\n",
              "      <td>\"Quitatelo pero mañana me compras la pastilla\"...</td>\n",
              "      <td>M</td>\n",
              "    </tr>\n",
              "    <tr>\n",
              "      <th>2</th>\n",
              "      <td>Doña Pamela Martínez ya debe tener la lengua c...</td>\n",
              "      <td>M</td>\n",
              "    </tr>\n",
              "    <tr>\n",
              "      <th>3</th>\n",
              "      <td>Me molesta mucho esa idea de que las mujeres m...</td>\n",
              "      <td>M</td>\n",
              "    </tr>\n",
              "    <tr>\n",
              "      <th>4</th>\n",
              "      <td>@amor_y_rap_ Un man que le dijo a una señora q...</td>\n",
              "      <td>M</td>\n",
              "    </tr>\n",
              "  </tbody>\n",
              "</table>\n",
              "</div>"
            ],
            "text/plain": [
              "                                                text clasificacion\n",
              "0  No puedo con las mujeres que no se depilan las...             M\n",
              "1  \"Quitatelo pero mañana me compras la pastilla\"...             M\n",
              "2  Doña Pamela Martínez ya debe tener la lengua c...             M\n",
              "3  Me molesta mucho esa idea de que las mujeres m...             M\n",
              "4  @amor_y_rap_ Un man que le dijo a una señora q...             M"
            ]
          },
          "metadata": {
            "tags": []
          },
          "execution_count": 5
        }
      ]
    },
    {
      "cell_type": "code",
      "metadata": {
        "id": "MocI-qzKImSS",
        "colab_type": "code",
        "outputId": "48fc87dc-2e38-4ea6-fc9b-2222ac5610ac",
        "colab": {
          "base_uri": "https://localhost:8080/",
          "height": 36
        }
      },
      "source": [
        "df.shape"
      ],
      "execution_count": 0,
      "outputs": [
        {
          "output_type": "execute_result",
          "data": {
            "text/plain": [
              "(2194, 2)"
            ]
          },
          "metadata": {
            "tags": []
          },
          "execution_count": 6
        }
      ]
    },
    {
      "cell_type": "code",
      "metadata": {
        "id": "rCzOYs-4m490",
        "colab_type": "code",
        "outputId": "698e0111-0c8e-45c8-a29c-91d03a04f121",
        "colab": {
          "base_uri": "https://localhost:8080/",
          "height": 73
        }
      },
      "source": [
        "print(df.columns)\n",
        "print(df.shape)\n",
        "print(df.text.count())"
      ],
      "execution_count": 0,
      "outputs": [
        {
          "output_type": "stream",
          "text": [
            "Index(['text', 'clasificacion'], dtype='object')\n",
            "(2194, 2)\n",
            "2194\n"
          ],
          "name": "stdout"
        }
      ]
    },
    {
      "cell_type": "markdown",
      "metadata": {
        "id": "Xw83iO3oMzL3",
        "colab_type": "text"
      },
      "source": [
        "# Cleaning"
      ]
    },
    {
      "cell_type": "code",
      "metadata": {
        "id": "hRBoByMcU_0l",
        "colab_type": "code",
        "outputId": "dee2cbc5-a0ef-450b-8745-d7bf4635ce34",
        "colab": {
          "base_uri": "https://localhost:8080/",
          "height": 186
        }
      },
      "source": [
        "df.text.values"
      ],
      "execution_count": 0,
      "outputs": [
        {
          "output_type": "execute_result",
          "data": {
            "text/plain": [
              "array(['No puedo con las mujeres que no se depilan las cejas.... y me es inevitable pensar que si así tienen las cejas ¿cómo tendrán aquello? 🙈🙈🤣🤣',\n",
              "       '\"Quitatelo pero mañana me compras la pastilla\"  —Exclamó la princesa.',\n",
              "       'Doña Pamela Martínez ya debe tener la lengua con ampollas de tanto hablar. https://t.co/GwhKZoKjF1',\n",
              "       'Me molesta mucho esa idea de que las mujeres madres tienen casi que marginarse de espacios PÚBLICOS porque tienen hijos que, adivinen qué, lloran. Claro, el llanto es molesto. Pero qué arribismo tan mierda. \"Si su hijo llora quédense en casa\". No tienen derecho o qué? Fastidiosos',\n",
              "       ..., 'Capturan a segundo implicado en el feminicidio de Alicia Diaz. ',\n",
              "       'El productor ha sido acusado por unas 70 mujeres de abuso sexual en distinto grado.',\n",
              "       'Agresor sexual de niña de un año es buscado por las autoridades. ',\n",
              "       'El presunto delito de violación se habría producido de forma grupal.'], dtype=object)"
            ]
          },
          "metadata": {
            "tags": []
          },
          "execution_count": 8
        }
      ]
    },
    {
      "cell_type": "code",
      "metadata": {
        "id": "zVeaxpLXvl48",
        "colab_type": "code",
        "colab": {}
      },
      "source": [
        "df[\"text\"] = df[\"text\"].str.replace(r\"(@)[A-Za-z0-9_]+\", \"\")\n",
        "df[\"text\"] = df[\"text\"].str.replace(r':', '')\n",
        "df[\"text\"] = df[\"text\"].str.replace(r'‚Ä¶', '')\n",
        "df[\"text\"] = df[\"text\"].str.replace(\"\\\"\", \"\")\n",
        "df[\"text\"] = df[\"text\"].str.replace(r'^https?:\\/\\/.*[\\r\\n]*', '')\n",
        "df[\"text\"] = df[\"text\"].str.replace(r'http\\S+', '')\n",
        "df[\"text\"] = df[\"text\"].dropna()\n",
        "df = df[df[\"text\"]!=\"\"]\n",
        "df = df[df[\"clasificacion\"]!=\"\"]\n",
        "\n",
        "df = df[~df[\"clasificacion\"].isna()]\n"
      ],
      "execution_count": 0,
      "outputs": []
    },
    {
      "cell_type": "code",
      "metadata": {
        "id": "rgN4tyZhVqlO",
        "colab_type": "code",
        "outputId": "719737b3-7e0c-4a1f-f3c2-dfbfc9ca40fb",
        "colab": {
          "base_uri": "https://localhost:8080/",
          "height": 186
        }
      },
      "source": [
        " df.text.values"
      ],
      "execution_count": 0,
      "outputs": [
        {
          "output_type": "execute_result",
          "data": {
            "text/plain": [
              "array(['No puedo con las mujeres que no se depilan las cejas.... y me es inevitable pensar que si así tienen las cejas ¿cómo tendrán aquello? 🙈🙈🤣🤣',\n",
              "       'Quitatelo pero mañana me compras la pastilla  —Exclamó la princesa.',\n",
              "       'Doña Pamela Martínez ya debe tener la lengua con ampollas de tanto hablar. ',\n",
              "       'Me molesta mucho esa idea de que las mujeres madres tienen casi que marginarse de espacios PÚBLICOS porque tienen hijos que, adivinen qué, lloran. Claro, el llanto es molesto. Pero qué arribismo tan mierda. Si su hijo llora quédense en casa. No tienen derecho o qué? Fastidiosos',\n",
              "       ..., 'Capturan a segundo implicado en el feminicidio de Alicia Diaz. ',\n",
              "       'El productor ha sido acusado por unas 70 mujeres de abuso sexual en distinto grado.',\n",
              "       'Agresor sexual de niña de un año es buscado por las autoridades. ',\n",
              "       'El presunto delito de violación se habría producido de forma grupal.'], dtype=object)"
            ]
          },
          "metadata": {
            "tags": []
          },
          "execution_count": 10
        }
      ]
    },
    {
      "cell_type": "markdown",
      "metadata": {
        "id": "kgvSyX1EOe5F",
        "colab_type": "text"
      },
      "source": [
        "# Preprocessing"
      ]
    },
    {
      "cell_type": "code",
      "metadata": {
        "id": "ovX6-KME5i-U",
        "colab_type": "code",
        "colab": {}
      },
      "source": [
        "from fastai.text import *"
      ],
      "execution_count": 0,
      "outputs": []
    },
    {
      "cell_type": "code",
      "metadata": {
        "id": "FEk3YyWsYqBz",
        "colab_type": "code",
        "colab": {}
      },
      "source": [
        "df.to_csv(path+\"ForModel.csv\", encoding ='utf-8')\n",
        "df = pd.read_csv(path+\"ForModel.csv\")"
      ],
      "execution_count": 0,
      "outputs": []
    },
    {
      "cell_type": "code",
      "metadata": {
        "id": "p2tmZDIJX_83",
        "colab_type": "code",
        "colab": {}
      },
      "source": [
        "data_lm = (TextList.from_csv(path, path+\"ForModel.csv\", cols='text')\n",
        "           #Inputs: all the text files in path\n",
        "            .split_by_rand_pct(0.1)\n",
        "           #We randomly split and keep 10% (10,000 reviews) for validation\n",
        "            .label_for_lm()           \n",
        "           #We want to do a language model so we label accordingly\n",
        "            .databunch())\n",
        "data_lm.save('data_lm.pkl')"
      ],
      "execution_count": 0,
      "outputs": []
    },
    {
      "cell_type": "code",
      "metadata": {
        "id": "9XoLP2vF_h4v",
        "colab_type": "code",
        "colab": {}
      },
      "source": [
        "data_lm = load_data(path, 'data_lm.pkl')"
      ],
      "execution_count": 0,
      "outputs": []
    },
    {
      "cell_type": "code",
      "metadata": {
        "id": "2otviTs7BhkU",
        "colab_type": "code",
        "outputId": "60591281-1f85-4ea2-8679-4c0d564c9968",
        "colab": {
          "base_uri": "https://localhost:8080/",
          "height": 380
        }
      },
      "source": [
        "data_lm.show_batch()"
      ],
      "execution_count": 0,
      "outputs": [
        {
          "output_type": "display_data",
          "data": {
            "text/html": [
              "<table border=\"1\" class=\"dataframe\">\n",
              "  <thead>\n",
              "    <tr style=\"text-align: right;\">\n",
              "      <th>idx</th>\n",
              "      <th>text</th>\n",
              "    </tr>\n",
              "  </thead>\n",
              "  <tbody>\n",
              "    <tr>\n",
              "      <td>0</td>\n",
              "      <td>xxmaj me xxunk mucho esa idea de que las mujeres madres tienen casi que xxunk de xxunk xxup públicos porque tienen hijos que , xxunk qué , xxunk . xxmaj claro , el xxunk es xxunk . xxmaj pero qué xxunk tan mierda . xxmaj si su hijo llora xxunk en casa . xxmaj no tienen derecho o qué ? xxmaj xxunk xxbos xxmaj un man que le dijo a</td>\n",
              "    </tr>\n",
              "    <tr>\n",
              "      <td>1</td>\n",
              "      <td>xxbos xxmaj si tanto le importa la democracia xxup no siga xxunk de la xxunk ! ! # xxunk xxbos xxmaj xxunk xxbos xxmaj para la gente que no sabe xxunk xxunk . xxbos xxmaj xxunk xxbos xxmaj te xxunk xxunk el xxunk y el xxunk con la xxunk xxunk xxbos xxmaj este es el xxunk del xxunk , con eso quiere xxunk sus xxunk . xxbos xxmaj que xxunk</td>\n",
              "    </tr>\n",
              "    <tr>\n",
              "      <td>2</td>\n",
              "      <td>ley fueron xxunk por xxunk , 6 por el xxmaj xxunk y 3 por la xxmaj fiscalía xxmaj general , entre mayo de 2018 y mismo mes de 2019 . xxbos xxup xxunk cuando a las xxunk les gusta el sexo duro o fuerte por xxunk así les hacen eso o en otras xxunk es por puro gusto personal se llama xxunk xxunk es parte de xxup xxunk xxbos 🏆</td>\n",
              "    </tr>\n",
              "    <tr>\n",
              "      <td>3</td>\n",
              "      <td>que no quiera ver . xxmaj total xxunk de final . xxbos xxmaj la xxunk parte es el # xxunk 🤣 🤣 🤣 xxbos xxmaj gracias a ti xxmaj xxunk por tanta xxunk que nos xxunk a los ecuatorianos xxbos la veré hoy ! xxmaj pilas para xxunk después xxbos xxmaj su xxunk xxmaj xxunk que tiene xxunk con otro equipo .. xxmaj xxunk que es un jugador mal xxunk</td>\n",
              "    </tr>\n",
              "    <tr>\n",
              "      <td>4</td>\n",
              "      <td>ministra de la muerte xxunk xxunk # xxunk xxmaj xxunk xxmaj xxunk vía xxbos xxmaj alguna tienda xxunk xxunk de xxunk de xxmaj xxunk a buen xxunk ? xxbos xxmaj mamá no es que no xxunk en ti , pero tú ya tienes suficiente con tus problemas .. xxunk me gusto ser una xxunk . xxbos xxmaj que xxunk ! ! ! xxbos xxmaj como xxunk de la xxunk de</td>\n",
              "    </tr>\n",
              "  </tbody>\n",
              "</table>"
            ],
            "text/plain": [
              "<IPython.core.display.HTML object>"
            ]
          },
          "metadata": {
            "tags": []
          }
        }
      ]
    },
    {
      "cell_type": "code",
      "metadata": {
        "id": "L-r3XCpp2Jpc",
        "colab_type": "code",
        "outputId": "65c5f769-d188-48b1-9f27-8cd1fdbc5030",
        "colab": {
          "base_uri": "https://localhost:8080/",
          "height": 388
        }
      },
      "source": [
        "data_lm.vocab.itos[:20]"
      ],
      "execution_count": 0,
      "outputs": [
        {
          "output_type": "execute_result",
          "data": {
            "text/plain": [
              "['xxunk',\n",
              " 'xxpad',\n",
              " 'xxbos',\n",
              " 'xxeos',\n",
              " 'xxfld',\n",
              " 'xxmaj',\n",
              " 'xxup',\n",
              " 'xxrep',\n",
              " 'xxwrep',\n",
              " '.',\n",
              " 'de',\n",
              " 'la',\n",
              " ',',\n",
              " 'que',\n",
              " 'a',\n",
              " 'y',\n",
              " 'en',\n",
              " 'el',\n",
              " 'no',\n",
              " 'las']"
            ]
          },
          "metadata": {
            "tags": []
          },
          "execution_count": 16
        }
      ]
    },
    {
      "cell_type": "markdown",
      "metadata": {
        "id": "AGomMCEp2lY8",
        "colab_type": "text"
      },
      "source": [
        "# Language model fine-tuning"
      ]
    },
    {
      "cell_type": "code",
      "metadata": {
        "id": "gsyabWjpB0F7",
        "colab_type": "code",
        "colab": {}
      },
      "source": [
        "weights_pretrained = path+'converted_model'\n",
        "itos_pretrained = path+'itos'\n",
        "pretained_data = (weights_pretrained, itos_pretrained)\n",
        "learn = language_model_learner(data_lm, AWD_LSTM, pretrained_fnames=pretained_data, drop_mult=0.8)"
      ],
      "execution_count": 0,
      "outputs": []
    },
    {
      "cell_type": "code",
      "metadata": {
        "id": "xzC_qvGDBqTS",
        "colab_type": "code",
        "outputId": "7c32d35d-3a49-4bcd-aad5-019b99cd3961",
        "colab": {
          "base_uri": "https://localhost:8080/",
          "height": 36
        }
      },
      "source": [
        "learn.lr_find()"
      ],
      "execution_count": 0,
      "outputs": [
        {
          "output_type": "display_data",
          "data": {
            "text/html": [
              ""
            ],
            "text/plain": [
              "<IPython.core.display.HTML object>"
            ]
          },
          "metadata": {
            "tags": []
          }
        },
        {
          "output_type": "stream",
          "text": [
            "LR Finder is complete, type {learner_name}.recorder.plot() to see the graph.\n"
          ],
          "name": "stdout"
        }
      ]
    },
    {
      "cell_type": "code",
      "metadata": {
        "id": "14RB4UV5CNOV",
        "colab_type": "code",
        "outputId": "235ee2f9-bc0e-438e-89c8-d21c8ab05a35",
        "colab": {
          "base_uri": "https://localhost:8080/",
          "height": 283
        }
      },
      "source": [
        "learn.recorder.plot(skip_end=1)"
      ],
      "execution_count": 0,
      "outputs": [
        {
          "output_type": "display_data",
          "data": {
            "image/png": "[encoded data removed]",
            "text/plain": [
              "<Figure size 432x288 with 1 Axes>"
            ]
          },
          "metadata": {
            "tags": []
          }
        }
      ]
    },
    {
      "cell_type": "code",
      "metadata": {
        "id": "p7NNDhYlCOQT",
        "colab_type": "code",
        "outputId": "a092981c-6df4-4ac4-80cf-ecdfea52a735",
        "colab": {
          "base_uri": "https://localhost:8080/",
          "height": 81
        }
      },
      "source": [
        "learn.fit_one_cycle(1, 1e-001, moms=(0.8,0.7))"
      ],
      "execution_count": 0,
      "outputs": [
        {
          "output_type": "display_data",
          "data": {
            "text/html": [
              "<table border=\"1\" class=\"dataframe\">\n",
              "  <thead>\n",
              "    <tr style=\"text-align: left;\">\n",
              "      <th>epoch</th>\n",
              "      <th>train_loss</th>\n",
              "      <th>valid_loss</th>\n",
              "      <th>accuracy</th>\n",
              "      <th>time</th>\n",
              "    </tr>\n",
              "  </thead>\n",
              "  <tbody>\n",
              "    <tr>\n",
              "      <td>0</td>\n",
              "      <td>5.608965</td>\n",
              "      <td>4.277326</td>\n",
              "      <td>0.258371</td>\n",
              "      <td>00:01</td>\n",
              "    </tr>\n",
              "  </tbody>\n",
              "</table>"
            ],
            "text/plain": [
              "<IPython.core.display.HTML object>"
            ]
          },
          "metadata": {
            "tags": []
          }
        }
      ]
    },
    {
      "cell_type": "code",
      "metadata": {
        "id": "oMBglyEfGSoE",
        "colab_type": "code",
        "colab": {}
      },
      "source": [
        "learn.save('fit_head')"
      ],
      "execution_count": 0,
      "outputs": []
    },
    {
      "cell_type": "code",
      "metadata": {
        "id": "Zo0uujMLEaXE",
        "colab_type": "code",
        "colab": {}
      },
      "source": [
        "learn.load('fit_head');"
      ],
      "execution_count": 0,
      "outputs": []
    },
    {
      "cell_type": "code",
      "metadata": {
        "id": "XeQH0o7XGU1J",
        "colab_type": "code",
        "colab": {}
      },
      "source": [
        "learn.unfreeze()"
      ],
      "execution_count": 0,
      "outputs": []
    },
    {
      "cell_type": "code",
      "metadata": {
        "id": "ksPhFK9CFwki",
        "colab_type": "code",
        "outputId": "f596e3f8-7503-45f6-8cf6-59c8c5632e13",
        "colab": {
          "base_uri": "https://localhost:8080/",
          "height": 990
        }
      },
      "source": [
        "learn.fit_one_cycle(30, 1e-003, moms=(0.8,0.7))"
      ],
      "execution_count": 0,
      "outputs": [
        {
          "output_type": "display_data",
          "data": {
            "text/html": [
              "<table border=\"1\" class=\"dataframe\">\n",
              "  <thead>\n",
              "    <tr style=\"text-align: left;\">\n",
              "      <th>epoch</th>\n",
              "      <th>train_loss</th>\n",
              "      <th>valid_loss</th>\n",
              "      <th>accuracy</th>\n",
              "      <th>time</th>\n",
              "    </tr>\n",
              "  </thead>\n",
              "  <tbody>\n",
              "    <tr>\n",
              "      <td>0</td>\n",
              "      <td>4.595298</td>\n",
              "      <td>4.243691</td>\n",
              "      <td>0.257589</td>\n",
              "      <td>00:02</td>\n",
              "    </tr>\n",
              "    <tr>\n",
              "      <td>1</td>\n",
              "      <td>4.573003</td>\n",
              "      <td>4.181278</td>\n",
              "      <td>0.279129</td>\n",
              "      <td>00:02</td>\n",
              "    </tr>\n",
              "    <tr>\n",
              "      <td>2</td>\n",
              "      <td>4.537681</td>\n",
              "      <td>4.123278</td>\n",
              "      <td>0.288170</td>\n",
              "      <td>00:02</td>\n",
              "    </tr>\n",
              "    <tr>\n",
              "      <td>3</td>\n",
              "      <td>4.492321</td>\n",
              "      <td>4.055836</td>\n",
              "      <td>0.295201</td>\n",
              "      <td>00:02</td>\n",
              "    </tr>\n",
              "    <tr>\n",
              "      <td>4</td>\n",
              "      <td>4.445423</td>\n",
              "      <td>3.989018</td>\n",
              "      <td>0.300446</td>\n",
              "      <td>00:02</td>\n",
              "    </tr>\n",
              "    <tr>\n",
              "      <td>5</td>\n",
              "      <td>4.392853</td>\n",
              "      <td>3.919620</td>\n",
              "      <td>0.307254</td>\n",
              "      <td>00:02</td>\n",
              "    </tr>\n",
              "    <tr>\n",
              "      <td>6</td>\n",
              "      <td>4.334167</td>\n",
              "      <td>3.855956</td>\n",
              "      <td>0.315737</td>\n",
              "      <td>00:02</td>\n",
              "    </tr>\n",
              "    <tr>\n",
              "      <td>7</td>\n",
              "      <td>4.275239</td>\n",
              "      <td>3.797847</td>\n",
              "      <td>0.312277</td>\n",
              "      <td>00:02</td>\n",
              "    </tr>\n",
              "    <tr>\n",
              "      <td>8</td>\n",
              "      <td>4.212018</td>\n",
              "      <td>3.755106</td>\n",
              "      <td>0.318527</td>\n",
              "      <td>00:02</td>\n",
              "    </tr>\n",
              "    <tr>\n",
              "      <td>9</td>\n",
              "      <td>4.146560</td>\n",
              "      <td>3.709920</td>\n",
              "      <td>0.321987</td>\n",
              "      <td>00:02</td>\n",
              "    </tr>\n",
              "    <tr>\n",
              "      <td>10</td>\n",
              "      <td>4.081004</td>\n",
              "      <td>3.683000</td>\n",
              "      <td>0.322991</td>\n",
              "      <td>00:02</td>\n",
              "    </tr>\n",
              "    <tr>\n",
              "      <td>11</td>\n",
              "      <td>4.014090</td>\n",
              "      <td>3.645768</td>\n",
              "      <td>0.323884</td>\n",
              "      <td>00:02</td>\n",
              "    </tr>\n",
              "    <tr>\n",
              "      <td>12</td>\n",
              "      <td>3.947521</td>\n",
              "      <td>3.625906</td>\n",
              "      <td>0.327009</td>\n",
              "      <td>00:02</td>\n",
              "    </tr>\n",
              "    <tr>\n",
              "      <td>13</td>\n",
              "      <td>3.875674</td>\n",
              "      <td>3.603011</td>\n",
              "      <td>0.328125</td>\n",
              "      <td>00:02</td>\n",
              "    </tr>\n",
              "    <tr>\n",
              "      <td>14</td>\n",
              "      <td>3.804393</td>\n",
              "      <td>3.593759</td>\n",
              "      <td>0.327455</td>\n",
              "      <td>00:02</td>\n",
              "    </tr>\n",
              "    <tr>\n",
              "      <td>15</td>\n",
              "      <td>3.731891</td>\n",
              "      <td>3.587863</td>\n",
              "      <td>0.323996</td>\n",
              "      <td>00:02</td>\n",
              "    </tr>\n",
              "    <tr>\n",
              "      <td>16</td>\n",
              "      <td>3.661657</td>\n",
              "      <td>3.571018</td>\n",
              "      <td>0.329018</td>\n",
              "      <td>00:02</td>\n",
              "    </tr>\n",
              "    <tr>\n",
              "      <td>17</td>\n",
              "      <td>3.596997</td>\n",
              "      <td>3.573920</td>\n",
              "      <td>0.326116</td>\n",
              "      <td>00:02</td>\n",
              "    </tr>\n",
              "    <tr>\n",
              "      <td>18</td>\n",
              "      <td>3.534926</td>\n",
              "      <td>3.572734</td>\n",
              "      <td>0.326674</td>\n",
              "      <td>00:02</td>\n",
              "    </tr>\n",
              "    <tr>\n",
              "      <td>19</td>\n",
              "      <td>3.471933</td>\n",
              "      <td>3.575701</td>\n",
              "      <td>0.324665</td>\n",
              "      <td>00:02</td>\n",
              "    </tr>\n",
              "    <tr>\n",
              "      <td>20</td>\n",
              "      <td>3.412615</td>\n",
              "      <td>3.575799</td>\n",
              "      <td>0.322433</td>\n",
              "      <td>00:02</td>\n",
              "    </tr>\n",
              "    <tr>\n",
              "      <td>21</td>\n",
              "      <td>3.363986</td>\n",
              "      <td>3.585466</td>\n",
              "      <td>0.324554</td>\n",
              "      <td>00:02</td>\n",
              "    </tr>\n",
              "    <tr>\n",
              "      <td>22</td>\n",
              "      <td>3.314385</td>\n",
              "      <td>3.579107</td>\n",
              "      <td>0.323661</td>\n",
              "      <td>00:02</td>\n",
              "    </tr>\n",
              "    <tr>\n",
              "      <td>23</td>\n",
              "      <td>3.264376</td>\n",
              "      <td>3.584313</td>\n",
              "      <td>0.320871</td>\n",
              "      <td>00:02</td>\n",
              "    </tr>\n",
              "    <tr>\n",
              "      <td>24</td>\n",
              "      <td>3.222167</td>\n",
              "      <td>3.580057</td>\n",
              "      <td>0.321987</td>\n",
              "      <td>00:02</td>\n",
              "    </tr>\n",
              "    <tr>\n",
              "      <td>25</td>\n",
              "      <td>3.181081</td>\n",
              "      <td>3.578961</td>\n",
              "      <td>0.322321</td>\n",
              "      <td>00:02</td>\n",
              "    </tr>\n",
              "    <tr>\n",
              "      <td>26</td>\n",
              "      <td>3.149729</td>\n",
              "      <td>3.584296</td>\n",
              "      <td>0.321429</td>\n",
              "      <td>00:02</td>\n",
              "    </tr>\n",
              "    <tr>\n",
              "      <td>27</td>\n",
              "      <td>3.121896</td>\n",
              "      <td>3.585623</td>\n",
              "      <td>0.321540</td>\n",
              "      <td>00:02</td>\n",
              "    </tr>\n",
              "    <tr>\n",
              "      <td>28</td>\n",
              "      <td>3.097691</td>\n",
              "      <td>3.584052</td>\n",
              "      <td>0.321429</td>\n",
              "      <td>00:02</td>\n",
              "    </tr>\n",
              "    <tr>\n",
              "      <td>29</td>\n",
              "      <td>3.079573</td>\n",
              "      <td>3.581551</td>\n",
              "      <td>0.321987</td>\n",
              "      <td>00:02</td>\n",
              "    </tr>\n",
              "  </tbody>\n",
              "</table>"
            ],
            "text/plain": [
              "<IPython.core.display.HTML object>"
            ]
          },
          "metadata": {
            "tags": []
          }
        }
      ]
    },
    {
      "cell_type": "code",
      "metadata": {
        "id": "bgi1318qGeTS",
        "colab_type": "code",
        "colab": {}
      },
      "source": [
        "learn.save('fine_tuned')"
      ],
      "execution_count": 0,
      "outputs": []
    },
    {
      "cell_type": "code",
      "metadata": {
        "id": "G_Fitt-XGgxH",
        "colab_type": "code",
        "colab": {}
      },
      "source": [
        "learn.load('fine_tuned');"
      ],
      "execution_count": 0,
      "outputs": []
    },
    {
      "cell_type": "code",
      "metadata": {
        "id": "5bzC8wqHHWZc",
        "colab_type": "code",
        "colab": {}
      },
      "source": [
        "TEXT = \"Que haremos \"\n",
        "N_WORDS = 15\n",
        "N_SENTENCES = 5"
      ],
      "execution_count": 0,
      "outputs": []
    },
    {
      "cell_type": "code",
      "metadata": {
        "id": "mokOZvPvHXjq",
        "colab_type": "code",
        "outputId": "ee838e2e-31c6-4d04-c3db-5cf71339fc8d",
        "colab": {
          "base_uri": "https://localhost:8080/",
          "height": 110
        }
      },
      "source": [
        "print(\"\\n\".join(learn.predict(TEXT, N_WORDS, temperature=0.75) for _ in range(N_SENTENCES)))"
      ],
      "execution_count": 0,
      "outputs": [
        {
          "output_type": "stream",
          "text": [
            "Que haremos  por las mujeres son están de las derechos y las derechos de los tenemos y\n",
            "Que haremos  que lo que quito , ni que no se va a su mujer en\n",
            "Que haremos  la una mujer que se les gusta que no te quiero . xxbos Que\n",
            "Que haremos  , el hombre que me ha me brasil de me quiero que llamar gente a\n",
            "Que haremos  de la lucha del mundo en Argentina Castellón . xxbos No es\n"
          ],
          "name": "stdout"
        }
      ]
    },
    {
      "cell_type": "code",
      "metadata": {
        "id": "FfUbNWyNvYJo",
        "colab_type": "code",
        "colab": {}
      },
      "source": [
        "learn.save_encoder('fine_tuned_enc')"
      ],
      "execution_count": 0,
      "outputs": []
    },
    {
      "cell_type": "markdown",
      "metadata": {
        "id": "U5d5vixaqzXJ",
        "colab_type": "text"
      },
      "source": [
        "# Classifier"
      ]
    },
    {
      "cell_type": "code",
      "metadata": {
        "id": "RCNMPwzfH3Dp",
        "colab_type": "code",
        "colab": {}
      },
      "source": [
        "data_clas = (TextList.from_csv(path, path+\"ForModel.csv\", cols='text', vocab=data_lm.vocab)\n",
        "             .split_by_rand_pct()\n",
        "             .label_from_df(cols='clasificacion')\n",
        "             .databunch())"
      ],
      "execution_count": 0,
      "outputs": []
    },
    {
      "cell_type": "code",
      "metadata": {
        "id": "YO4C52pD62Wk",
        "colab_type": "code",
        "colab": {}
      },
      "source": [
        "data_clas.save('data_clas.pkl')"
      ],
      "execution_count": 0,
      "outputs": []
    },
    {
      "cell_type": "code",
      "metadata": {
        "id": "YOpg6llZDoiK",
        "colab_type": "code",
        "colab": {}
      },
      "source": [
        "learn = text_classifier_learner(data_clas, AWD_LSTM, drop_mult=0.6)\n",
        "learn.load_encoder('fine_tuned_enc')"
      ],
      "execution_count": 0,
      "outputs": []
    },
    {
      "cell_type": "code",
      "metadata": {
        "id": "flzCkntTDs2u",
        "colab_type": "code",
        "outputId": "1f1a567e-86d2-4ccd-a0d4-39d64c88d085",
        "colab": {
          "base_uri": "https://localhost:8080/",
          "height": 36
        }
      },
      "source": [
        "learn.lr_find()"
      ],
      "execution_count": 0,
      "outputs": [
        {
          "output_type": "display_data",
          "data": {
            "text/html": [
              ""
            ],
            "text/plain": [
              "<IPython.core.display.HTML object>"
            ]
          },
          "metadata": {
            "tags": []
          }
        },
        {
          "output_type": "stream",
          "text": [
            "LR Finder is complete, type {learner_name}.recorder.plot() to see the graph.\n"
          ],
          "name": "stdout"
        }
      ]
    },
    {
      "cell_type": "code",
      "metadata": {
        "id": "L6A2GmyoEG4C",
        "colab_type": "code",
        "outputId": "7a25b9c6-d6a5-4a97-c451-04ed2cf51234",
        "colab": {
          "base_uri": "https://localhost:8080/",
          "height": 283
        }
      },
      "source": [
        "learn.recorder.plot()"
      ],
      "execution_count": 0,
      "outputs": [
        {
          "output_type": "display_data",
          "data": {
            "image/png": "[encoded data removed]",
            "text/plain": [
              "<Figure size 432x288 with 1 Axes>"
            ]
          },
          "metadata": {
            "tags": []
          }
        }
      ]
    },
    {
      "cell_type": "code",
      "metadata": {
        "id": "B1bmQVPcEIfl",
        "colab_type": "code",
        "outputId": "305ceab6-7d73-4c85-9496-f632c6d02946",
        "colab": {
          "base_uri": "https://localhost:8080/",
          "height": 300
        }
      },
      "source": [
        "learn.fit_one_cycle(8, 1e-02, moms=(0.8,0.7))"
      ],
      "execution_count": 0,
      "outputs": [
        {
          "output_type": "display_data",
          "data": {
            "text/html": [
              "<table border=\"1\" class=\"dataframe\">\n",
              "  <thead>\n",
              "    <tr style=\"text-align: left;\">\n",
              "      <th>epoch</th>\n",
              "      <th>train_loss</th>\n",
              "      <th>valid_loss</th>\n",
              "      <th>accuracy</th>\n",
              "      <th>time</th>\n",
              "    </tr>\n",
              "  </thead>\n",
              "  <tbody>\n",
              "    <tr>\n",
              "      <td>0</td>\n",
              "      <td>0.620373</td>\n",
              "      <td>0.588684</td>\n",
              "      <td>0.739726</td>\n",
              "      <td>00:01</td>\n",
              "    </tr>\n",
              "    <tr>\n",
              "      <td>1</td>\n",
              "      <td>0.580196</td>\n",
              "      <td>0.499895</td>\n",
              "      <td>0.744292</td>\n",
              "      <td>00:01</td>\n",
              "    </tr>\n",
              "    <tr>\n",
              "      <td>2</td>\n",
              "      <td>0.556765</td>\n",
              "      <td>0.471039</td>\n",
              "      <td>0.778539</td>\n",
              "      <td>00:01</td>\n",
              "    </tr>\n",
              "    <tr>\n",
              "      <td>3</td>\n",
              "      <td>0.532460</td>\n",
              "      <td>0.488642</td>\n",
              "      <td>0.767123</td>\n",
              "      <td>00:01</td>\n",
              "    </tr>\n",
              "    <tr>\n",
              "      <td>4</td>\n",
              "      <td>0.518779</td>\n",
              "      <td>0.476606</td>\n",
              "      <td>0.762557</td>\n",
              "      <td>00:01</td>\n",
              "    </tr>\n",
              "    <tr>\n",
              "      <td>5</td>\n",
              "      <td>0.505894</td>\n",
              "      <td>0.459834</td>\n",
              "      <td>0.760274</td>\n",
              "      <td>00:01</td>\n",
              "    </tr>\n",
              "    <tr>\n",
              "      <td>6</td>\n",
              "      <td>0.487000</td>\n",
              "      <td>0.460401</td>\n",
              "      <td>0.762557</td>\n",
              "      <td>00:01</td>\n",
              "    </tr>\n",
              "    <tr>\n",
              "      <td>7</td>\n",
              "      <td>0.475590</td>\n",
              "      <td>0.456771</td>\n",
              "      <td>0.753425</td>\n",
              "      <td>00:01</td>\n",
              "    </tr>\n",
              "  </tbody>\n",
              "</table>"
            ],
            "text/plain": [
              "<IPython.core.display.HTML object>"
            ]
          },
          "metadata": {
            "tags": []
          }
        }
      ]
    },
    {
      "cell_type": "code",
      "metadata": {
        "id": "Tz7AzCLdEPxi",
        "colab_type": "code",
        "colab": {}
      },
      "source": [
        "learn.save('first')"
      ],
      "execution_count": 0,
      "outputs": []
    },
    {
      "cell_type": "code",
      "metadata": {
        "id": "qcAU944xFPMx",
        "colab_type": "code",
        "colab": {}
      },
      "source": [
        "learn.load('first');"
      ],
      "execution_count": 0,
      "outputs": []
    },
    {
      "cell_type": "code",
      "metadata": {
        "id": "gt8ct08gFQ8l",
        "colab_type": "code",
        "outputId": "0fb278a6-9c5f-4583-c7a0-ae2adaa985eb",
        "colab": {
          "base_uri": "https://localhost:8080/",
          "height": 175
        }
      },
      "source": [
        "learn.freeze_to(-2)\n",
        "learn.fit_one_cycle(4, slice(1e-02/(2.6**4),1e-02), moms=(0.8,0.7))"
      ],
      "execution_count": 0,
      "outputs": [
        {
          "output_type": "display_data",
          "data": {
            "text/html": [
              "<table border=\"1\" class=\"dataframe\">\n",
              "  <thead>\n",
              "    <tr style=\"text-align: left;\">\n",
              "      <th>epoch</th>\n",
              "      <th>train_loss</th>\n",
              "      <th>valid_loss</th>\n",
              "      <th>accuracy</th>\n",
              "      <th>time</th>\n",
              "    </tr>\n",
              "  </thead>\n",
              "  <tbody>\n",
              "    <tr>\n",
              "      <td>0</td>\n",
              "      <td>0.467276</td>\n",
              "      <td>0.450375</td>\n",
              "      <td>0.771689</td>\n",
              "      <td>00:01</td>\n",
              "    </tr>\n",
              "    <tr>\n",
              "      <td>1</td>\n",
              "      <td>0.491115</td>\n",
              "      <td>0.455453</td>\n",
              "      <td>0.780822</td>\n",
              "      <td>00:01</td>\n",
              "    </tr>\n",
              "    <tr>\n",
              "      <td>2</td>\n",
              "      <td>0.461827</td>\n",
              "      <td>0.446227</td>\n",
              "      <td>0.801370</td>\n",
              "      <td>00:01</td>\n",
              "    </tr>\n",
              "    <tr>\n",
              "      <td>3</td>\n",
              "      <td>0.433659</td>\n",
              "      <td>0.429613</td>\n",
              "      <td>0.801370</td>\n",
              "      <td>00:01</td>\n",
              "    </tr>\n",
              "  </tbody>\n",
              "</table>"
            ],
            "text/plain": [
              "<IPython.core.display.HTML object>"
            ]
          },
          "metadata": {
            "tags": []
          }
        }
      ]
    },
    {
      "cell_type": "code",
      "metadata": {
        "id": "8slywWXPFXd4",
        "colab_type": "code",
        "colab": {}
      },
      "source": [
        "learn.save('second')"
      ],
      "execution_count": 0,
      "outputs": []
    },
    {
      "cell_type": "code",
      "metadata": {
        "id": "UJyk81CcFbO_",
        "colab_type": "code",
        "colab": {}
      },
      "source": [
        "learn.load('second');"
      ],
      "execution_count": 0,
      "outputs": []
    },
    {
      "cell_type": "code",
      "metadata": {
        "id": "QNIQGnmSOq8W",
        "colab_type": "code",
        "colab": {}
      },
      "source": [
        "learn.save('lastModel_v5second')"
      ],
      "execution_count": 0,
      "outputs": []
    },
    {
      "cell_type": "code",
      "metadata": {
        "id": "fix1D4TvOyoO",
        "colab_type": "code",
        "colab": {}
      },
      "source": [
        "learn.save_encoder('lastModel_enc_v5second')"
      ],
      "execution_count": 0,
      "outputs": []
    },
    {
      "cell_type": "markdown",
      "metadata": {
        "id": "2fpBe-YwO17h",
        "colab_type": "text"
      },
      "source": [
        "# Test"
      ]
    },
    {
      "cell_type": "code",
      "metadata": {
        "id": "y0fAi262qmrX",
        "colab_type": "code",
        "outputId": "176ee3e0-b12e-42e2-9ee8-4a0e8592050c",
        "colab": {
          "base_uri": "https://localhost:8080/",
          "height": 56
        }
      },
      "source": [
        "from google.colab import drive\n",
        "drive.mount('/content/drive/')\n",
        "\n",
        "from fastai.text import *\n",
        "path = '/content/drive/My Drive/Ai Saturdays/'"
      ],
      "execution_count": 0,
      "outputs": [
        {
          "output_type": "stream",
          "text": [
            "Drive already mounted at /content/drive/; to attempt to forcibly remount, call drive.mount(\"/content/drive/\", force_remount=True).\n"
          ],
          "name": "stdout"
        }
      ]
    },
    {
      "cell_type": "code",
      "metadata": {
        "id": "Hq1MdBpdodMs",
        "colab_type": "code",
        "colab": {}
      },
      "source": [
        "data_clas = load_data(path, 'data_clas.pkl')\n",
        "learn = text_classifier_learner(data_clas, AWD_LSTM, drop_mult=0.6)\n",
        "learn.load('lastModel_v5second')\n",
        "learn.load_encoder('lastModel_enc_v5second')\n"
      ],
      "execution_count": 0,
      "outputs": []
    },
    {
      "cell_type": "code",
      "metadata": {
        "id": "Pj0ltFItNKmK",
        "colab_type": "code",
        "outputId": "9976aefd-67cc-4c84-960f-93727640bfc5",
        "colab": {
          "base_uri": "https://localhost:8080/",
          "height": 36
        }
      },
      "source": [
        "learn.predict(\"Las mujeres a la cocina\")"
      ],
      "execution_count": 0,
      "outputs": [
        {
          "output_type": "execute_result",
          "data": {
            "text/plain": [
              "(Category M, tensor(0), tensor([0.7128, 0.2872]))"
            ]
          },
          "metadata": {
            "tags": []
          },
          "execution_count": 138
        }
      ]
    },
    {
      "cell_type": "code",
      "metadata": {
        "id": "bwmrtunCOIr1",
        "colab_type": "code",
        "outputId": "35231552-e0e2-45b6-b9bd-1ca25e9b0040",
        "colab": {
          "base_uri": "https://localhost:8080/",
          "height": 36
        }
      },
      "source": [
        "learn.predict(\"Las mujeres no saben de futbol\")"
      ],
      "execution_count": 0,
      "outputs": [
        {
          "output_type": "execute_result",
          "data": {
            "text/plain": [
              "(Category M, tensor(0), tensor([0.5707, 0.4293]))"
            ]
          },
          "metadata": {
            "tags": []
          },
          "execution_count": 146
        }
      ]
    },
    {
      "cell_type": "code",
      "metadata": {
        "id": "4ybvo0OXyCg5",
        "colab_type": "code",
        "outputId": "f38cd63a-71d1-4f6c-b8dd-17ab4536324f",
        "colab": {
          "base_uri": "https://localhost:8080/",
          "height": 36
        }
      },
      "source": [
        "learn.predict(\"La mujer debe tener voz y voto\")"
      ],
      "execution_count": 0,
      "outputs": [
        {
          "output_type": "execute_result",
          "data": {
            "text/plain": [
              "(Category P, tensor(1), tensor([0.3546, 0.6454]))"
            ]
          },
          "metadata": {
            "tags": []
          },
          "execution_count": 140
        }
      ]
    },
    {
      "cell_type": "code",
      "metadata": {
        "id": "DM_3iXJQObh1",
        "colab_type": "code",
        "outputId": "da61da8a-7a89-4911-b7a1-40608a5f978f",
        "colab": {
          "base_uri": "https://localhost:8080/",
          "height": 36
        }
      },
      "source": [
        "learn.predict(\"Todas las personas deberíamos tener los mismos derechos\")"
      ],
      "execution_count": 0,
      "outputs": [
        {
          "output_type": "execute_result",
          "data": {
            "text/plain": [
              "(Category P, tensor(1), tensor([0.0382, 0.9618]))"
            ]
          },
          "metadata": {
            "tags": []
          },
          "execution_count": 147
        }
      ]
    },
    {
      "cell_type": "code",
      "metadata": {
        "id": "Zepp88V_ABMp",
        "colab_type": "code",
        "outputId": "0c3deb7f-46eb-4374-c782-73ee6874c703",
        "colab": {
          "base_uri": "https://localhost:8080/",
          "height": 36
        }
      },
      "source": [
        "learn.predict(\"Un man que le dijo a una señora que estaba con su hija no la debería traer acá porque llora mucho, ¿usted no entiende que a estos conciertos no deben ir niños?al escuchar eso entré en ira y lo perseguí al baño y cuando lo encontré le dije vos sos un hijo de puta machista.\")"
      ],
      "execution_count": 0,
      "outputs": [
        {
          "output_type": "execute_result",
          "data": {
            "text/plain": [
              "(Category M, tensor(0), tensor([0.9625, 0.0375]))"
            ]
          },
          "metadata": {
            "tags": []
          },
          "execution_count": 142
        }
      ]
    },
    {
      "cell_type": "code",
      "metadata": {
        "id": "ciK7yFmDOEcW",
        "colab_type": "code",
        "outputId": "c607988a-f7c8-4a91-dcb5-e0db9adc4ce0",
        "colab": {
          "base_uri": "https://localhost:8080/",
          "height": 36
        }
      },
      "source": [
        "learn.predict(\"las mujeres deben pensar antes de abrir las piernas\")"
      ],
      "execution_count": 0,
      "outputs": [
        {
          "output_type": "execute_result",
          "data": {
            "text/plain": [
              "(Category M, tensor(0), tensor([0.6534, 0.3466]))"
            ]
          },
          "metadata": {
            "tags": []
          },
          "execution_count": 144
        }
      ]
    },
    {
      "cell_type": "code",
      "metadata": {
        "id": "WtOYxCy7uA2c",
        "colab_type": "code",
        "outputId": "f9bd56b1-77d4-4cf6-db46-0056d7772d75",
        "colab": {
          "base_uri": "https://localhost:8080/",
          "height": 36
        }
      },
      "source": [
        "learn.predict(\"mujer tenía que ser\")"
      ],
      "execution_count": 0,
      "outputs": [
        {
          "output_type": "execute_result",
          "data": {
            "text/plain": [
              "(Category M, tensor(0), tensor([0.5596, 0.4404]))"
            ]
          },
          "metadata": {
            "tags": []
          },
          "execution_count": 148
        }
      ]
    }
  ]
}